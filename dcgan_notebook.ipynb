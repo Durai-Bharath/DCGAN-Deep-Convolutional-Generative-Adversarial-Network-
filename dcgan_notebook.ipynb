{
 "cells": [
  {
   "cell_type": "code",
   "execution_count": 1,
   "metadata": {},
   "outputs": [],
   "source": [
    "from tensorflow.keras.models import Sequential\n",
    "from tensorflow.keras.layers import BatchNormalization\n",
    "from tensorflow.keras.layers import Conv2D,Conv2DTranspose\n",
    "from tensorflow.keras.layers import LeakyReLU\n",
    "from tensorflow.keras.layers import Activation\n",
    "from tensorflow.keras.layers import Flatten\n",
    "from tensorflow.keras.layers import Dense\n",
    "from tensorflow.keras.layers import Reshape\n"
   ]
  },
  {
   "cell_type": "code",
   "execution_count": 2,
   "metadata": {},
   "outputs": [],
   "source": [
    "class  DCGAN:\n",
    "    @staticmethod\n",
    "    def build_generator(dim,depth,channels = 1,inputDim = 100, outputDim = 512):\n",
    "        #where dim is the spatial dimension of the input volume (i.e., the width and height of the input image)\n",
    "        #depth is the number of filters in the first layer of the generator(we will double the number of filters in each subsequent layer)\n",
    "        \n",
    "        model = Sequential()\n",
    "        inputShape = (dim,dim,depth) #input shape of the generator\n",
    "        chanDim = -1 #ChanDim is the channel dimension meaning that the data is in the format of (batch, height, width, channels)\n",
    "                     #1 for grayscale images and 3 for RGB images\n",
    "        \n",
    "        \n",
    "        #first set of FC => RELU => BN layers\n",
    "        model.add(Dense(input_dim= inputDim,units=outputDim)) #fully connected layer where units is the number of nodes in the layer\n",
    "        model.add(Activation(\"relu\") ) #activation function relu\n",
    "        model.add(BatchNormalization()) #batch normalization meaning that we normalize the activations of the network at each layer divided into mini-batches\n",
    "        \n",
    "        #second set of FC => RELU => BN layers \n",
    "        #this time the number of FC nodes to be reshaped into a volume becasue we are going to apply a convolutional transpose layer where input_dim < output_dim\n",
    "        \n",
    "        model.add(Dense(dim*dim*depth)) #fully connected layer has output of dim*dim*depth\n",
    "        model.add(Activation(\"relu\")) #activation function relu\n",
    "        model.add(BatchNormalization()) #batch normalization    \n",
    "        \n",
    "        #reshape the volume to have the desired spatial dimensions\n",
    "        model.add(Reshape(inputShape)) #reshape the volume to have the desired spatial dimensions\n",
    "        model.add(Conv2DTranspose(32,(5,5),strides=(2,2),padding=\"same\")) #convolutional transpose layer where 32 is the number of filters and (5,5) is the size of the filter and strides is the step size of the filter\n",
    "        model.add(Activation(\"relu\")) #activation function relu\n",
    "        model.add(BatchNormalization(axis=chanDim)) #batch normalization where chanDim is -1 means it takes the last dimension of the input\n",
    "        \n",
    "        #apply another convolutional transpose layer\n",
    "        model.add(Conv2DTranspose(channels,(5,5),strides=(2,2),padding=\"same\")) #convolutional transpose layer where channels is the number of filters and (5,5) is the size of the filter and strides is the step size of the filter\n",
    "        model.add(Activation(\"tanh\")) #activation function tanh\n",
    "        \n",
    "        \n",
    "        return model\n",
    "    \n",
    "    @staticmethod\n",
    "    def build_discriminator(width,height,depth,alpha=0.2):\n",
    "        #where width and height are the spatial dimensions of the input volume\n",
    "        #depth is the number of filters in the first layer of the discriminator\n",
    "        #alpha is the slope of the leaky ReLU activation function in simple terms it is the learning rate of the activation function\n",
    "        \n",
    "        model = Sequential()\n",
    "        inputShape = (height,width,depth)\n",
    "        \n",
    "        #first set of CONV => RELU layers\n",
    "        model.add(Conv2D(32,(5,5),padding=\"same\",input_shape=inputShape))\n",
    "        model.add(LeakyReLU(alpha=alpha))\n",
    "        \n",
    "        \n",
    "        #second set of CONV => RELU layers  \n",
    "        model.add(Conv2D(64,(5,5),strides = (2,2),padding=\"same\"))\n",
    "        model.add(LeakyReLU(alpha=alpha))\n",
    "        \n",
    "        #third set Flatten => FC layer (fully connected layer)\n",
    "        model.add(Flatten()) #flatten the volume into a vector as the input to the fully connected layer in column major order\n",
    "        model.add(Dense(512)) #512 is the number of nodes in the layer\n",
    "        model.add(LeakyReLU(alpha=alpha))\n",
    "        \n",
    "        #output layer\n",
    "        model.add(Dense(1))\n",
    "        model.add(Activation(\"sigmoid\"))\n",
    "        \n",
    "        return model\n",
    "        \n",
    "        \n"
   ]
  },
  {
   "cell_type": "code",
   "execution_count": 3,
   "metadata": {},
   "outputs": [
    {
     "name": "stdout",
     "output_type": "stream",
     "text": [
      "Model: \"sequential\"\n",
      "_________________________________________________________________\n",
      " Layer (type)                Output Shape              Param #   \n",
      "=================================================================\n",
      " dense (Dense)               (None, 512)               51712     \n",
      "                                                                 \n",
      " activation (Activation)     (None, 512)               0         \n",
      "                                                                 \n",
      " batch_normalization (BatchN  (None, 512)              2048      \n",
      " ormalization)                                                   \n",
      "                                                                 \n",
      " dense_1 (Dense)             (None, 3136)              1608768   \n",
      "                                                                 \n",
      " activation_1 (Activation)   (None, 3136)              0         \n",
      "                                                                 \n",
      " batch_normalization_1 (Batc  (None, 3136)             12544     \n",
      " hNormalization)                                                 \n",
      "                                                                 \n",
      " reshape (Reshape)           (None, 7, 7, 64)          0         \n",
      "                                                                 \n",
      " conv2d_transpose (Conv2DTra  (None, 14, 14, 32)       51232     \n",
      " nspose)                                                         \n",
      "                                                                 \n",
      " activation_2 (Activation)   (None, 14, 14, 32)        0         \n",
      "                                                                 \n",
      " batch_normalization_2 (Batc  (None, 14, 14, 32)       128       \n",
      " hNormalization)                                                 \n",
      "                                                                 \n",
      " conv2d_transpose_1 (Conv2DT  (None, 28, 28, 1)        801       \n",
      " ranspose)                                                       \n",
      "                                                                 \n",
      " activation_3 (Activation)   (None, 28, 28, 1)         0         \n",
      "                                                                 \n",
      "=================================================================\n",
      "Total params: 1,727,233\n",
      "Trainable params: 1,719,873\n",
      "Non-trainable params: 7,360\n",
      "_________________________________________________________________\n"
     ]
    }
   ],
   "source": [
    "model= DCGAN.build_generator(7,64)\n",
    "model.summary()"
   ]
  },
  {
   "cell_type": "code",
   "execution_count": 4,
   "metadata": {},
   "outputs": [
    {
     "name": "stdout",
     "output_type": "stream",
     "text": [
      "Model: \"sequential_1\"\n",
      "_________________________________________________________________\n",
      " Layer (type)                Output Shape              Param #   \n",
      "=================================================================\n",
      " conv2d (Conv2D)             (None, 28, 28, 32)        832       \n",
      "                                                                 \n",
      " leaky_re_lu (LeakyReLU)     (None, 28, 28, 32)        0         \n",
      "                                                                 \n",
      " conv2d_1 (Conv2D)           (None, 14, 14, 64)        51264     \n",
      "                                                                 \n",
      " leaky_re_lu_1 (LeakyReLU)   (None, 14, 14, 64)        0         \n",
      "                                                                 \n",
      " flatten (Flatten)           (None, 12544)             0         \n",
      "                                                                 \n",
      " dense_2 (Dense)             (None, 512)               6423040   \n",
      "                                                                 \n",
      " leaky_re_lu_2 (LeakyReLU)   (None, 512)               0         \n",
      "                                                                 \n",
      " dense_3 (Dense)             (None, 1)                 513       \n",
      "                                                                 \n",
      " activation_4 (Activation)   (None, 1)                 0         \n",
      "                                                                 \n",
      "=================================================================\n",
      "Total params: 6,475,649\n",
      "Trainable params: 6,475,649\n",
      "Non-trainable params: 0\n",
      "_________________________________________________________________\n"
     ]
    }
   ],
   "source": [
    "model = DCGAN.build_discriminator(28,28,1)\n",
    "model.summary()"
   ]
  },
  {
   "cell_type": "code",
   "execution_count": null,
   "metadata": {},
   "outputs": [],
   "source": []
  },
  {
   "cell_type": "code",
   "execution_count": null,
   "metadata": {},
   "outputs": [],
   "source": []
  }
 ],
 "metadata": {
  "kernelspec": {
   "display_name": "Keras",
   "language": "python",
   "name": "python3"
  },
  "language_info": {
   "codemirror_mode": {
    "name": "ipython",
    "version": 3
   },
   "file_extension": ".py",
   "mimetype": "text/x-python",
   "name": "python",
   "nbconvert_exporter": "python",
   "pygments_lexer": "ipython3",
   "version": "3.9.18"
  }
 },
 "nbformat": 4,
 "nbformat_minor": 2
}
